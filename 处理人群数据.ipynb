{
 "cells": [
  {
   "cell_type": "code",
   "execution_count": 35,
   "metadata": {},
   "outputs": [],
   "source": [
    "import numpy as np\n",
    "import pandas as pd\n",
    "import copy\n",
    "data=pd.read_excel('20190916杭州萧山国际机场.xls')\n",
    "data=data.sort_values(by='降落时间',axis=0,ascending=True)\n",
    "val=[[0 for i in range(60)] for j in range(24)]\n",
    "t=data.iloc[:,3].values\n",
    "for i in t:\n",
    "    a,b=i.split(':')\n",
    "    a=int(a)\n",
    "    b=int(b)\n",
    "    na=copy.copy(a)\n",
    "    nb=copy.copy(b)\n",
    "    lam = 20\n",
    "    # 指数分布抽样,size为人数\n",
    "    add = np.random.exponential(1/lam, size=int(150*0.85))\n",
    "    ss=0\n",
    "    count=0\n",
    "    for i in add:\n",
    "        ss+=i\n",
    "        count+=1\n",
    "        if ss>=1:\n",
    "            ss=0\n",
    "            val[na][nb]+=int(count)\n",
    "            nb+=1\n",
    "            if nb//60>=1:\n",
    "                nb%=60\n",
    "                na+=1\n",
    "            if na==24:\n",
    "                break\n",
    "            count=0\n",
    "for i in range(24):\n",
    "    for j in range(60):\n",
    "        val[i][j]=int(val[i][j]*0.25)\n",
    "\n",
    "ans=[]\n",
    "for i in range(24):\n",
    "    for j in range(60):\n",
    "        ans.append([str(i)+':'+str(j),val[i][j]])\n",
    "df=pd.DataFrame(ans)\n",
    "df.to_excel('20190916杭州萧山国际机场每分钟打车人数.xls')\n",
    "\n",
    "v = []\n",
    "\n",
    "f = open('data.txt','w+')\n",
    "for i in range(24):\n",
    "    join = val[i]\n",
    "    v.append(join)\n",
    "    for j in range(60):\n",
    "        strNum = str(join[j])\n",
    "        f.write(strNum)\n",
    "        if j!=59:\n",
    "            f.write(' ')\n",
    "    f.write('\\n')\n",
    "f.close()"
   ]
  },
  {
   "cell_type": "code",
   "execution_count": null,
   "metadata": {},
   "outputs": [],
   "source": []
  }
 ],
 "metadata": {
  "kernelspec": {
   "display_name": "Python 3",
   "language": "python",
   "name": "python3"
  },
  "language_info": {
   "codemirror_mode": {
    "name": "ipython",
    "version": 3
   },
   "file_extension": ".py",
   "mimetype": "text/x-python",
   "name": "python",
   "nbconvert_exporter": "python",
   "pygments_lexer": "ipython3",
   "version": "3.6.8"
  }
 },
 "nbformat": 4,
 "nbformat_minor": 2
}
