{
 "cells": [
  {
   "cell_type": "code",
   "execution_count": 30,
   "metadata": {},
   "outputs": [],
   "source": [
    "import pandas as pd\n",
    "new = pd.DataFrame()"
   ]
  },
  {
   "cell_type": "code",
   "execution_count": 31,
   "metadata": {
    "scrolled": true
   },
   "outputs": [
    {
     "name": "stdout",
     "output_type": "stream",
     "text": [
      "[7, 5, 0, 0, 0, 181, 608, 510, 517, 879, 980, 937, 904, 1106, 988, 710, 710, 691, 832, 534, 576, 375, 183, 64]\n"
     ]
    }
   ],
   "source": [
    "a=[]\n",
    "max_s=[]\n",
    "for i in range(1,5):\n",
    "    for j in range(1,32):\n",
    "        if i==2 and j==29:\n",
    "            break\n",
    "        if i==3 and j==32:\n",
    "            break\n",
    "        if i==4 and j==18:\n",
    "            break;\n",
    "        df=pd.read_excel(str(i)+'.'+str(j)+'.xls')\n",
    "        n,_=df.shape\n",
    "        new=[]\n",
    "        new.append(str(i)+'.'+str(j))\n",
    "        for k in range(5,29):\n",
    "            new.append(df.iloc[n-1,k])\n",
    "        a.append(new)"
   ]
  },
  {
   "cell_type": "code",
   "execution_count": 29,
   "metadata": {},
   "outputs": [],
   "source": [
    "c=['date']\n",
    "for i in range(24):\n",
    "    c.append(i)\n",
    "df=pd.DataFrame(a,columns=c)\n",
    "df.to_csv('数据.csv',index=False)"
   ]
  },
  {
   "cell_type": "code",
   "execution_count": null,
   "metadata": {},
   "outputs": [],
   "source": []
  }
 ],
 "metadata": {
  "kernelspec": {
   "display_name": "Python 3",
   "language": "python",
   "name": "python3"
  },
  "language_info": {
   "codemirror_mode": {
    "name": "ipython",
    "version": 3
   },
   "file_extension": ".py",
   "mimetype": "text/x-python",
   "name": "python",
   "nbconvert_exporter": "python",
   "pygments_lexer": "ipython3",
   "version": "3.6.8"
  }
 },
 "nbformat": 4,
 "nbformat_minor": 2
}
